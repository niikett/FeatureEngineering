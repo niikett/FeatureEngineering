{
 "cells": [
  {
   "cell_type": "code",
   "execution_count": 1,
   "metadata": {},
   "outputs": [],
   "source": [
    "import numpy as np\n",
    "import pandas as pd\n",
    "from sklearn.model_selection import train_test_split\n",
    "from sklearn.impute import SimpleImputer\n",
    "from sklearn.preprocessing import OneHotEncoder, OrdinalEncoder\n",
    "from sklearn.compose import ColumnTransformer"
   ]
  },
  {
   "cell_type": "code",
   "execution_count": 2,
   "metadata": {},
   "outputs": [],
   "source": [
    "np.random.seed = 42\n",
    "\n",
    "data = {\n",
    "    \"age\": np.random.randint(0, 100, 100),\n",
    "    \"gender\": np.random.choice([\"male\", \"female\"], size=100),\n",
    "    \"fever\": np.random.choice([*np.random.uniform(95, 105, 10), np.nan], size=100),\n",
    "    \"cough\": np.random.choice([\"strong\", \"mild\"], size=100),\n",
    "    \"city\": np.random.choice([\"a\", \"b\", \"c\", \"d\", \"e\"], size=100),\n",
    "    \"covid\": np.random.choice([\"yes\", \"no\"], size=100)\n",
    "}"
   ]
  },
  {
   "cell_type": "code",
   "execution_count": 3,
   "metadata": {},
   "outputs": [],
   "source": [
    "df = pd.DataFrame(data)"
   ]
  },
  {
   "cell_type": "code",
   "execution_count": 4,
   "metadata": {},
   "outputs": [],
   "source": [
    "x_train, x_test, y_train, y_test = train_test_split(df.iloc[:,0:-1], df.iloc[:,-1], test_size=0.2, random_state=42)"
   ]
  },
  {
   "cell_type": "code",
   "execution_count": 5,
   "metadata": {},
   "outputs": [],
   "source": [
    "transformer = ColumnTransformer(transformers=[\n",
    "    (\"tnf1\", SimpleImputer(), [\"fever\"]), \n",
    "    (\"tnf2\", OrdinalEncoder(categories=[[\"mild\", \"strong\"]]), [\"cough\"]), \n",
    "    (\"tnf3\", OneHotEncoder(sparse_output=False, drop=\"first\"), [\"gender\", \"city\"])\n",
    "], remainder=\"passthrough\")\n",
    "\n",
    "transformer.fit(x_train)\n",
    "\n",
    "x_train_new = transformer.transform(x_train)\n",
    "x_test_new = transformer.transform(x_test)"
   ]
  },
  {
   "cell_type": "code",
   "execution_count": 6,
   "metadata": {},
   "outputs": [
    {
     "name": "stdout",
     "output_type": "stream",
     "text": [
      "(80, 5)\n",
      "(80, 8)\n"
     ]
    }
   ],
   "source": [
    "print(x_train.shape)\n",
    "print(x_train_new.shape)"
   ]
  },
  {
   "cell_type": "code",
   "execution_count": null,
   "metadata": {},
   "outputs": [],
   "source": []
  }
 ],
 "metadata": {
  "kernelspec": {
   "display_name": "Python 3",
   "language": "python",
   "name": "python3"
  },
  "language_info": {
   "codemirror_mode": {
    "name": "ipython",
    "version": 3
   },
   "file_extension": ".py",
   "mimetype": "text/x-python",
   "name": "python",
   "nbconvert_exporter": "python",
   "pygments_lexer": "ipython3",
   "version": "3.11.0"
  }
 },
 "nbformat": 4,
 "nbformat_minor": 2
}
